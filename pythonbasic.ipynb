{
 "cells": [
  {
   "cell_type": "code",
   "execution_count": 1,
   "id": "dacae9b3-ee27-41d2-848b-6b8097bd5ab9",
   "metadata": {},
   "outputs": [
    {
     "ename": "SyntaxError",
     "evalue": "Missing parentheses in call to 'print'. Did you mean print(...)? (3963284925.py, line 2)",
     "output_type": "error",
     "traceback": [
      "\u001b[0;36m  Cell \u001b[0;32mIn[1], line 2\u001b[0;36m\u001b[0m\n\u001b[0;31m    print a\u001b[0m\n\u001b[0m    ^\u001b[0m\n\u001b[0;31mSyntaxError\u001b[0m\u001b[0;31m:\u001b[0m Missing parentheses in call to 'print'. Did you mean print(...)?\n"
     ]
    }
   ],
   "source": [
    "a=10\n",
    "print a\n"
   ]
  },
  {
   "cell_type": "code",
   "execution_count": 2,
   "id": "44a170f5-edf0-444f-9d3d-fb2896a10f46",
   "metadata": {},
   "outputs": [
    {
     "name": "stdout",
     "output_type": "stream",
     "text": [
      "10\n"
     ]
    }
   ],
   "source": [
    "a=10\n",
    "print (a)\n"
   ]
  },
  {
   "cell_type": "code",
   "execution_count": 9,
   "id": "d949c5e6-33eb-442b-b3f3-1640d1679020",
   "metadata": {},
   "outputs": [
    {
     "name": "stdout",
     "output_type": "stream",
     "text": [
      "palindrome\n"
     ]
    }
   ],
   "source": [
    "st = \"abcdcba\"\n",
    "rev=st[-1::-1]\n",
    "if st==rev:\n",
    "    print (\"palindrome\")\n",
    "else:\n",
    "    print (\"not palindrome\")\n"
   ]
  },
  {
   "cell_type": "code",
   "execution_count": 8,
   "id": "07c3db5e-b4c9-49d9-b2d1-35e11963a152",
   "metadata": {},
   "outputs": [
    {
     "ename": "NameError",
     "evalue": "name 'swap' is not defined",
     "output_type": "error",
     "traceback": [
      "\u001b[0;31m---------------------------------------------------------------------------\u001b[0m",
      "\u001b[0;31mNameError\u001b[0m                                 Traceback (most recent call last)",
      "Cell \u001b[0;32mIn[8], line 3\u001b[0m\n\u001b[1;32m      1\u001b[0m a\u001b[38;5;241m=\u001b[39m\u001b[38;5;241m10\u001b[39m\n\u001b[1;32m      2\u001b[0m b\u001b[38;5;241m=\u001b[39m\u001b[38;5;241m12\u001b[39m\n\u001b[0;32m----> 3\u001b[0m \u001b[43mswap\u001b[49m(a,b)\n",
      "\u001b[0;31mNameError\u001b[0m: name 'swap' is not defined"
     ]
    }
   ],
   "source": [
    "a=10\n",
    "b=12\n",
    "swap(a,b)"
   ]
  },
  {
   "cell_type": "code",
   "execution_count": 10,
   "id": "f8121472-ccc3-481a-a8df-0b4ef8fea0ef",
   "metadata": {},
   "outputs": [
    {
     "name": "stdout",
     "output_type": "stream",
     "text": [
      "2\n"
     ]
    }
   ],
   "source": [
    "a=1\n",
    "b=2\n",
    "a,b=b,a\n",
    "print(a)"
   ]
  },
  {
   "cell_type": "code",
   "execution_count": 13,
   "id": "aead63c7-de6b-43cd-a5d6-ac939ef45f6e",
   "metadata": {},
   "outputs": [
    {
     "ename": "ZeroDivisionError",
     "evalue": "division by zero",
     "output_type": "error",
     "traceback": [
      "\u001b[0;31m---------------------------------------------------------------------------\u001b[0m",
      "\u001b[0;31mZeroDivisionError\u001b[0m                         Traceback (most recent call last)",
      "Cell \u001b[0;32mIn[13], line 3\u001b[0m\n\u001b[1;32m      1\u001b[0m b1\u001b[38;5;241m=\u001b[39m\u001b[38;5;28;01mTrue\u001b[39;00m\n\u001b[1;32m      2\u001b[0m b2\u001b[38;5;241m=\u001b[39m\u001b[38;5;28;01mFalse\u001b[39;00m\n\u001b[0;32m----> 3\u001b[0m \u001b[43mb1\u001b[49m\u001b[38;5;241;43m/\u001b[39;49m\u001b[43mb2\u001b[49m\n",
      "\u001b[0;31mZeroDivisionError\u001b[0m: division by zero"
     ]
    }
   ],
   "source": [
    "b1=True\n",
    "b2=False\n",
    "b1/b2"
   ]
  },
  {
   "cell_type": "code",
   "execution_count": 18,
   "id": "75a86181-dc87-4b33-a9d3-1654524aacce",
   "metadata": {},
   "outputs": [
    {
     "name": "stdin",
     "output_type": "stream",
     "text": [
      "enter the length 10\n",
      "enter width 20\n"
     ]
    },
    {
     "name": "stdout",
     "output_type": "stream",
     "text": [
      "Area of rectangle is  200\n"
     ]
    }
   ],
   "source": [
    "length = int(input(\"enter the length\"))\n",
    "width = int(input(\"enter width\"))\n",
    "area = length * width\n",
    "print(\"Area of rectangle is \", area)"
   ]
  },
  {
   "cell_type": "code",
   "execution_count": 21,
   "id": "9f09e42f-dce1-4235-8fed-ee716865e7f3",
   "metadata": {},
   "outputs": [
    {
     "data": {
      "text/plain": [
       "4"
      ]
     },
     "execution_count": 21,
     "metadata": {},
     "output_type": "execute_result"
    }
   ],
   "source": [
    "len(\"area\")"
   ]
  },
  {
   "cell_type": "code",
   "execution_count": 11,
   "id": "fd031132-3819-4d5c-974c-aacfc17e8633",
   "metadata": {},
   "outputs": [
    {
     "ename": "NameError",
     "evalue": "name 'x' is not defined",
     "output_type": "error",
     "traceback": [
      "\u001b[0;31m---------------------------------------------------------------------------\u001b[0m",
      "\u001b[0;31mNameError\u001b[0m                                 Traceback (most recent call last)",
      "Cell \u001b[0;32mIn[11], line 4\u001b[0m\n\u001b[1;32m      1\u001b[0m \u001b[38;5;124;03m'''python\u001b[39;00m\n\u001b[1;32m      2\u001b[0m \u001b[38;5;124;03mx=10\u001b[39;00m\n\u001b[1;32m      3\u001b[0m \u001b[38;5;124;03mx=x+5 '''\u001b[39;00m\n\u001b[0;32m----> 4\u001b[0m \u001b[43mx\u001b[49m\n",
      "\u001b[0;31mNameError\u001b[0m: name 'x' is not defined"
     ]
    }
   ],
   "source": [
    "'''python\n",
    "x=10\n",
    "x=x+5 '''\n",
    "x"
   ]
  },
  {
   "cell_type": "code",
   "execution_count": null,
   "id": "7da055f5-1272-496f-b814-f694edb55936",
   "metadata": {},
   "outputs": [],
   "source": [
    "    "
   ]
  }
 ],
 "metadata": {
  "kernelspec": {
   "display_name": "Python 3 (ipykernel)",
   "language": "python",
   "name": "python3"
  },
  "language_info": {
   "codemirror_mode": {
    "name": "ipython",
    "version": 3
   },
   "file_extension": ".py",
   "mimetype": "text/x-python",
   "name": "python",
   "nbconvert_exporter": "python",
   "pygments_lexer": "ipython3",
   "version": "3.10.8"
  }
 },
 "nbformat": 4,
 "nbformat_minor": 5
}
