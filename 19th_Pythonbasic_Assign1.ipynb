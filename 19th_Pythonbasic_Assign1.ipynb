{
 "cells": [
  {
   "cell_type": "raw",
   "id": "ebe296fe-fe89-4a31-9c84-7369bb84a867",
   "metadata": {},
   "source": [
    "Q.1--  Declare two variables, `x` and `y`, and assign them integer values. Swap the\n",
    "values of these variables without using any temporary variable."
   ]
  },
  {
   "cell_type": "code",
   "execution_count": 9,
   "id": "3937b401-62b9-4d1d-a6e7-65d7a779594f",
   "metadata": {},
   "outputs": [
    {
     "name": "stdout",
     "output_type": "stream",
     "text": [
      "Original value of x:10and y:20\n",
      "Swap value of x:20and y:10\n"
     ]
    }
   ],
   "source": [
    "x,y=10,20\n",
    "print(\"Original value of x:\" + str(x) + \"and y:\" + str(y))\n",
    "x,y=y,x\n",
    "print(\"Swap value of x:\" + str(x) + \"and y:\" + str(y))\n"
   ]
  },
  {
   "cell_type": "raw",
   "id": "beb4a1b8-a415-4018-92b5-532334df7d59",
   "metadata": {},
   "source": [
    "2. Create a program that calculates the area of a rectangle. Take the length and\n",
    "width as inputs from the user and store them in variables. Calculate and\n",
    "display the area."
   ]
  },
  {
   "cell_type": "code",
   "execution_count": 17,
   "id": "df6e3371-b9cc-49ac-9eb8-ffba856f440a",
   "metadata": {},
   "outputs": [
    {
     "name": "stdin",
     "output_type": "stream",
     "text": [
      "Enter length of rectangle  10\n",
      "Enter width of rectangle  20\n"
     ]
    },
    {
     "name": "stdout",
     "output_type": "stream",
     "text": [
      "Area of rectangle is  200\n"
     ]
    }
   ],
   "source": [
    "l= int(input(\"Enter length of rectangle \"))\n",
    "w= int(input(\"Enter width of rectangle \"))\n",
    "a=l * w\n",
    "print (\"Area of rectangle is \" , a)\n"
   ]
  },
  {
   "cell_type": "raw",
   "id": "34b1d42e-e3ec-441b-9420-de69185b23b1",
   "metadata": {},
   "source": [
    "3. Write a Python program that converts temperatures from Celsius to\n",
    "Fahrenheit. Take the temperature in Celsius as input, store it in a variable,\n",
    "convert it to Fahrenheit, and display the result."
   ]
  },
  {
   "cell_type": "code",
   "execution_count": 21,
   "id": "d9c050f5-71a9-4b61-a1d4-5eef0089b990",
   "metadata": {},
   "outputs": [
    {
     "name": "stdin",
     "output_type": "stream",
     "text": [
      "Enter temperature in Celsius : 100\n"
     ]
    },
    {
     "name": "stdout",
     "output_type": "stream",
     "text": [
      "Temperature in Farenheit is :  212.0\n"
     ]
    }
   ],
   "source": [
    "temp=int(input(\"Enter temperature in Celsius :\" ))\n",
    "temp=(((temp*9)/5)+32)\n",
    "print(\"Temperature in Farenheit is : \", temp)"
   ]
  },
  {
   "cell_type": "raw",
   "id": "e146103c-c2e1-4bef-8c3e-deed60b29d58",
   "metadata": {},
   "source": [
    "TOPIC 1. Write a Python program that takes a string as input and prints the length of\n",
    "the string."
   ]
  },
  {
   "cell_type": "code",
   "execution_count": 28,
   "id": "0af8fd07-e03d-43e2-8ce0-2225b01339a7",
   "metadata": {},
   "outputs": [
    {
     "name": "stdin",
     "output_type": "stream",
     "text": [
      "Write your name :  Uma\n"
     ]
    },
    {
     "name": "stdout",
     "output_type": "stream",
     "text": [
      "Your name has :  3 characters\n"
     ]
    }
   ],
   "source": [
    "s=input(\"Write your name : \")\n",
    "print(\"Your name has : \", len(s), \"characters\")"
   ]
  },
  {
   "cell_type": "raw",
   "id": "dbef0502-753a-4aba-b075-610d43665215",
   "metadata": {},
   "source": [
    "2. Create a program that takes a sentence from the user and counts the number\n",
    "of vowels (a, e, i, o, u) in the string."
   ]
  },
  {
   "cell_type": "code",
   "execution_count": 41,
   "id": "6bf73660-896b-4d7d-a69e-db8d7fb47bdf",
   "metadata": {},
   "outputs": [
    {
     "name": "stdin",
     "output_type": "stream",
     "text": [
      "Enter your college name:  aaryen college\n"
     ]
    },
    {
     "name": "stdout",
     "output_type": "stream",
     "text": [
      "Total vowel in your college name is \n",
      "6\n"
     ]
    }
   ],
   "source": [
    "s=input(\"Enter your college name: \")\n",
    "print(\"Total vowel in your college name is \")\n",
    "print(int(s.count('a')) + int(s.count('e')) + int(s.count('i'))+ int(s.count('o'))+int(s.count('u')))\n",
    "'''Sir please guide what could be the better way to solve this question'''"
   ]
  },
  {
   "cell_type": "raw",
   "id": "7ea74912-8346-4548-8aee-dc3aafdbb69e",
   "metadata": {},
   "source": [
    "3. Given a string, reverse the order of characters using string slicing and print\n",
    "the reversed string."
   ]
  },
  {
   "cell_type": "code",
   "execution_count": 46,
   "id": "b23ac76f-a7a3-4fc8-bb7b-6287b3625301",
   "metadata": {},
   "outputs": [
    {
     "name": "stdin",
     "output_type": "stream",
     "text": [
      "Enter your name :  uma\n"
     ]
    },
    {
     "data": {
      "text/plain": [
       "'amu'"
      ]
     },
     "execution_count": 46,
     "metadata": {},
     "output_type": "execute_result"
    }
   ],
   "source": [
    "s1=input(\"Enter your name : \")\n",
    "s1[::-1]"
   ]
  },
  {
   "cell_type": "raw",
   "id": "df71e981-ca3a-41a4-8037-2e09fbb4c05d",
   "metadata": {},
   "source": [
    "4. Write a program that takes a string as input and checks if it is a palindrome\n",
    "(reads the same forwards and backwards)."
   ]
  },
  {
   "cell_type": "code",
   "execution_count": 61,
   "id": "7866b117-00f7-4285-83c9-ac43958698ba",
   "metadata": {},
   "outputs": [
    {
     "name": "stdin",
     "output_type": "stream",
     "text": [
      "String1  MALAYALAM\n"
     ]
    },
    {
     "name": "stdout",
     "output_type": "stream",
     "text": [
      "MALAYALAM\n",
      "String is Palindrome\n"
     ]
    }
   ],
   "source": [
    "s=input(\"String1 \" )\n",
    "t=s[::-1]\n",
    "print(t)\n",
    "if s==t:\n",
    "    print(\"String is Palindrome\");\n",
    "else:\n",
    "    print(\"String is not Palindrome\")\n"
   ]
  },
  {
   "cell_type": "raw",
   "id": "e89f47fd-bed1-4340-ba44-6967d9ed3642",
   "metadata": {},
   "source": [
    "'''5. Create a program that takes a string as input and removes all the spaces from\n",
    "it. Print the modified string without spaces."
   ]
  },
  {
   "cell_type": "code",
   "execution_count": 65,
   "id": "af3179af-f89c-4fef-b3bd-cbcaba0f51b0",
   "metadata": {},
   "outputs": [
    {
     "name": "stdin",
     "output_type": "stream",
     "text": [
      "Enter your name  uma    verma\n"
     ]
    },
    {
     "name": "stdout",
     "output_type": "stream",
     "text": [
      "umaverma\n"
     ]
    }
   ],
   "source": [
    "'''5. Create a program that takes a string as input and removes all the spaces from\n",
    "it. Print the modified string without spaces.'''\n",
    "\n",
    "s=input(\"Enter your name \")\n",
    "print(s.replace(\" \",\"\"))"
   ]
  },
  {
   "cell_type": "code",
   "execution_count": null,
   "id": "4da9f546-1d6a-4991-8a13-90d99af1973c",
   "metadata": {},
   "outputs": [],
   "source": []
  },
  {
   "cell_type": "code",
   "execution_count": null,
   "id": "1acf2db8-c073-4b58-a21b-5c02afc8333a",
   "metadata": {},
   "outputs": [],
   "source": []
  }
 ],
 "metadata": {
  "kernelspec": {
   "display_name": "Python 3 (ipykernel)",
   "language": "python",
   "name": "python3"
  },
  "language_info": {
   "codemirror_mode": {
    "name": "ipython",
    "version": 3
   },
   "file_extension": ".py",
   "mimetype": "text/x-python",
   "name": "python",
   "nbconvert_exporter": "python",
   "pygments_lexer": "ipython3",
   "version": "3.10.8"
  }
 },
 "nbformat": 4,
 "nbformat_minor": 5
}
